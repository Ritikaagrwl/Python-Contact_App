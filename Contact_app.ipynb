{
 "cells": [
  {
   "cell_type": "code",
   "execution_count": null,
   "metadata": {},
   "outputs": [],
   "source": []
  },
  {
   "cell_type": "code",
   "execution_count": 13,
   "metadata": {},
   "outputs": [
    {
     "name": "stdout",
     "output_type": "stream",
     "text": [
      "{'name': 'Ritika', 'number': '6375030872', 'email': 'ritika@gmail.com'}\n"
     ]
    }
   ],
   "source": [
    "\n",
    "\n",
    "contacts = [{\"name\":\"Ritika\",\"number\":\"6375030872\",\"email\":\"ritika@gmail.com\"},\n",
    "            {\"name\":\"Keshav\",\"number\":\"8107874468\",\"email\":\"keshav@gmail.com\"},\n",
    "            {\"name\":\"Tanu\",\"number\":\"9530328358\",\"email\":\"tanu@gmail.com\"}]\n",
    "\n",
    "def show_contacts(contacts):\n",
    "    for i in contacts:\n",
    "        print(i[\"name\"])\n",
    "\n",
    "def add_contact(contacts):\n",
    "    name = input(\"Enter the name\")\n",
    "    number = input(\"Enter the number\")\n",
    "    email  = input(\"Enter the email\")\n",
    "    dict = {\"name\":name,\"number\":number,\"email\":email}\n",
    "    return contacts.append(dict)\n",
    "\n",
    "def delete_contact(contacts,name):\n",
    "    for i,j in enumerate(contacts):\n",
    "        if j[\"name\"] == name:\n",
    "            del contacts[i]\n",
    "                \n",
    "def update_contact(contacts, name):\n",
    "    for x,y in enumerate(contacts):\n",
    "        if y[\"name\"] == name:\n",
    "            name = input()\n",
    "            number = input()\n",
    "            email = input()\n",
    "            contacts[x][\"name\"] = name\n",
    "            contacts[x][\"number\"] = number\n",
    "            contacts[x][\"email\"] = email\n",
    "\n",
    "def open_contact(contacts, name):\n",
    "    for x in contacts:\n",
    "        if x[\"name\"] == name:\n",
    "            print(x)\n",
    "            break\n",
    "    if x[\"name\"] != name:\n",
    "        print(\"no contact found\")\n",
    "\n",
    "\n",
    "while True:    \n",
    "    action = input(\"Press 's' - show contacts ,'a' - add contact, 'o' - open contact, 'u' - update contact, 'd' - delete contact, 'q' - quit\")\n",
    "    \n",
    "    if action == 's':\n",
    "        show_contacts(contacts)\n",
    "        break\n",
    "    \n",
    "    if action == 'a':\n",
    "        add_contact(contacts)\n",
    "        show_contacts(contacts)\n",
    "        break\n",
    "\n",
    "    elif action == 'o':\n",
    "        name = input(\"Enter the name\")\n",
    "        open_contact(contacts,name)\n",
    "        break\n",
    "    \n",
    "    elif action == 'u':\n",
    "        name = input(\"Enter the name\")\n",
    "        update_contact(contacts,name)\n",
    "        show_contacts(contacts)\n",
    "        break\n",
    "    \n",
    "    elif action == 'd':\n",
    "        name = input(\"Enter the name\")\n",
    "        delete_contact(contacts,name)  \n",
    "        show_contacts(contacts)\n",
    "        break\n",
    "              \n",
    "    elif action == 'q':\n",
    "        break\n",
    "    \n",
    "    else:\n",
    "        print(\"Incorrect choice\")"
   ]
  },
  {
   "cell_type": "code",
   "execution_count": null,
   "metadata": {},
   "outputs": [],
   "source": []
  }
 ],
 "metadata": {
  "kernelspec": {
   "display_name": "Python 3",
   "language": "python",
   "name": "python3"
  },
  "language_info": {
   "codemirror_mode": {
    "name": "ipython",
    "version": 3
   },
   "file_extension": ".py",
   "mimetype": "text/x-python",
   "name": "python",
   "nbconvert_exporter": "python",
   "pygments_lexer": "ipython3",
   "version": "3.9.6"
  }
 },
 "nbformat": 4,
 "nbformat_minor": 2
}
